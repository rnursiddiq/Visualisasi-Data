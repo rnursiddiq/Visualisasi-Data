{
  "nbformat": 4,
  "nbformat_minor": 0,
  "metadata": {
    "colab": {
      "provenance": [],
      "include_colab_link": true
    },
    "kernelspec": {
      "name": "python3",
      "display_name": "Python 3"
    },
    "language_info": {
      "name": "python"
    }
  },
  "cells": [
    {
      "cell_type": "markdown",
      "metadata": {
        "id": "view-in-github",
        "colab_type": "text"
      },
      "source": [
        "<a href=\"https://colab.research.google.com/github/rnursiddiq/Visualisasi-Data/blob/main/UAS_Rozaan_Shofwan_Nursiddiq.ipynb\" target=\"_parent\"><img src=\"https://colab.research.google.com/assets/colab-badge.svg\" alt=\"Open In Colab\"/></a>"
      ]
    },
    {
      "cell_type": "code",
      "execution_count": null,
      "metadata": {
        "id": "bw_z5iPL2Us2"
      },
      "outputs": [],
      "source": [
        "import pandas as pd\n",
        "import matplotlib.pyplot as plt\n",
        "import numpy as np\n",
        "from matplotlib.ticker import PercentFormatter\n"
      ]
    },
    {
      "cell_type": "code",
      "source": [
        "df_kbulanan = pd.read_csv(\"/content/kebutuhan_per_bulan_2.csv\")"
      ],
      "metadata": {
        "id": "fkMFYxqx5OxV"
      },
      "execution_count": null,
      "outputs": []
    },
    {
      "cell_type": "code",
      "source": [
        "df_kbulanan"
      ],
      "metadata": {
        "id": "nGW_KyJb5xfE",
        "colab": {
          "base_uri": "https://localhost:8080/",
          "height": 424
        },
        "outputId": "27624c26-0edd-4a0f-bb29-a60d49749a3b"
      },
      "execution_count": null,
      "outputs": [
        {
          "output_type": "execute_result",
          "data": {
            "text/plain": [
              "           Propinsi  tahun kebutuhan\n",
              "0              ACEH   2005    619876\n",
              "1    SUMATERA UTARA   2005    547255\n",
              "2    SUMATERA BARAT   2005    501315\n",
              "3              RIAU   2005    551498\n",
              "4             JAMBI   2005    495242\n",
              "..              ...    ...       ...\n",
              "369  SULAWESI BARAT   2015   1981507\n",
              "370          MALUKU   2015   2197450\n",
              "371    MALUKU UTARA   2015   2333166\n",
              "372     PAPUA BARAT   2015   2255113\n",
              "373           PAPUA   2015   2171944\n",
              "\n",
              "[374 rows x 3 columns]"
            ],
            "text/html": [
              "\n",
              "  <div id=\"df-293b0601-8327-45f4-b26f-cf17fc1e9497\">\n",
              "    <div class=\"colab-df-container\">\n",
              "      <div>\n",
              "<style scoped>\n",
              "    .dataframe tbody tr th:only-of-type {\n",
              "        vertical-align: middle;\n",
              "    }\n",
              "\n",
              "    .dataframe tbody tr th {\n",
              "        vertical-align: top;\n",
              "    }\n",
              "\n",
              "    .dataframe thead th {\n",
              "        text-align: right;\n",
              "    }\n",
              "</style>\n",
              "<table border=\"1\" class=\"dataframe\">\n",
              "  <thead>\n",
              "    <tr style=\"text-align: right;\">\n",
              "      <th></th>\n",
              "      <th>Propinsi</th>\n",
              "      <th>tahun</th>\n",
              "      <th>kebutuhan</th>\n",
              "    </tr>\n",
              "  </thead>\n",
              "  <tbody>\n",
              "    <tr>\n",
              "      <th>0</th>\n",
              "      <td>ACEH</td>\n",
              "      <td>2005</td>\n",
              "      <td>619876</td>\n",
              "    </tr>\n",
              "    <tr>\n",
              "      <th>1</th>\n",
              "      <td>SUMATERA UTARA</td>\n",
              "      <td>2005</td>\n",
              "      <td>547255</td>\n",
              "    </tr>\n",
              "    <tr>\n",
              "      <th>2</th>\n",
              "      <td>SUMATERA BARAT</td>\n",
              "      <td>2005</td>\n",
              "      <td>501315</td>\n",
              "    </tr>\n",
              "    <tr>\n",
              "      <th>3</th>\n",
              "      <td>RIAU</td>\n",
              "      <td>2005</td>\n",
              "      <td>551498</td>\n",
              "    </tr>\n",
              "    <tr>\n",
              "      <th>4</th>\n",
              "      <td>JAMBI</td>\n",
              "      <td>2005</td>\n",
              "      <td>495242</td>\n",
              "    </tr>\n",
              "    <tr>\n",
              "      <th>...</th>\n",
              "      <td>...</td>\n",
              "      <td>...</td>\n",
              "      <td>...</td>\n",
              "    </tr>\n",
              "    <tr>\n",
              "      <th>369</th>\n",
              "      <td>SULAWESI BARAT</td>\n",
              "      <td>2015</td>\n",
              "      <td>1981507</td>\n",
              "    </tr>\n",
              "    <tr>\n",
              "      <th>370</th>\n",
              "      <td>MALUKU</td>\n",
              "      <td>2015</td>\n",
              "      <td>2197450</td>\n",
              "    </tr>\n",
              "    <tr>\n",
              "      <th>371</th>\n",
              "      <td>MALUKU UTARA</td>\n",
              "      <td>2015</td>\n",
              "      <td>2333166</td>\n",
              "    </tr>\n",
              "    <tr>\n",
              "      <th>372</th>\n",
              "      <td>PAPUA BARAT</td>\n",
              "      <td>2015</td>\n",
              "      <td>2255113</td>\n",
              "    </tr>\n",
              "    <tr>\n",
              "      <th>373</th>\n",
              "      <td>PAPUA</td>\n",
              "      <td>2015</td>\n",
              "      <td>2171944</td>\n",
              "    </tr>\n",
              "  </tbody>\n",
              "</table>\n",
              "<p>374 rows × 3 columns</p>\n",
              "</div>\n",
              "      <button class=\"colab-df-convert\" onclick=\"convertToInteractive('df-293b0601-8327-45f4-b26f-cf17fc1e9497')\"\n",
              "              title=\"Convert this dataframe to an interactive table.\"\n",
              "              style=\"display:none;\">\n",
              "        \n",
              "  <svg xmlns=\"http://www.w3.org/2000/svg\" height=\"24px\"viewBox=\"0 0 24 24\"\n",
              "       width=\"24px\">\n",
              "    <path d=\"M0 0h24v24H0V0z\" fill=\"none\"/>\n",
              "    <path d=\"M18.56 5.44l.94 2.06.94-2.06 2.06-.94-2.06-.94-.94-2.06-.94 2.06-2.06.94zm-11 1L8.5 8.5l.94-2.06 2.06-.94-2.06-.94L8.5 2.5l-.94 2.06-2.06.94zm10 10l.94 2.06.94-2.06 2.06-.94-2.06-.94-.94-2.06-.94 2.06-2.06.94z\"/><path d=\"M17.41 7.96l-1.37-1.37c-.4-.4-.92-.59-1.43-.59-.52 0-1.04.2-1.43.59L10.3 9.45l-7.72 7.72c-.78.78-.78 2.05 0 2.83L4 21.41c.39.39.9.59 1.41.59.51 0 1.02-.2 1.41-.59l7.78-7.78 2.81-2.81c.8-.78.8-2.07 0-2.86zM5.41 20L4 18.59l7.72-7.72 1.47 1.35L5.41 20z\"/>\n",
              "  </svg>\n",
              "      </button>\n",
              "      \n",
              "  <style>\n",
              "    .colab-df-container {\n",
              "      display:flex;\n",
              "      flex-wrap:wrap;\n",
              "      gap: 12px;\n",
              "    }\n",
              "\n",
              "    .colab-df-convert {\n",
              "      background-color: #E8F0FE;\n",
              "      border: none;\n",
              "      border-radius: 50%;\n",
              "      cursor: pointer;\n",
              "      display: none;\n",
              "      fill: #1967D2;\n",
              "      height: 32px;\n",
              "      padding: 0 0 0 0;\n",
              "      width: 32px;\n",
              "    }\n",
              "\n",
              "    .colab-df-convert:hover {\n",
              "      background-color: #E2EBFA;\n",
              "      box-shadow: 0px 1px 2px rgba(60, 64, 67, 0.3), 0px 1px 3px 1px rgba(60, 64, 67, 0.15);\n",
              "      fill: #174EA6;\n",
              "    }\n",
              "\n",
              "    [theme=dark] .colab-df-convert {\n",
              "      background-color: #3B4455;\n",
              "      fill: #D2E3FC;\n",
              "    }\n",
              "\n",
              "    [theme=dark] .colab-df-convert:hover {\n",
              "      background-color: #434B5C;\n",
              "      box-shadow: 0px 1px 3px 1px rgba(0, 0, 0, 0.15);\n",
              "      filter: drop-shadow(0px 1px 2px rgba(0, 0, 0, 0.3));\n",
              "      fill: #FFFFFF;\n",
              "    }\n",
              "  </style>\n",
              "\n",
              "      <script>\n",
              "        const buttonEl =\n",
              "          document.querySelector('#df-293b0601-8327-45f4-b26f-cf17fc1e9497 button.colab-df-convert');\n",
              "        buttonEl.style.display =\n",
              "          google.colab.kernel.accessAllowed ? 'block' : 'none';\n",
              "\n",
              "        async function convertToInteractive(key) {\n",
              "          const element = document.querySelector('#df-293b0601-8327-45f4-b26f-cf17fc1e9497');\n",
              "          const dataTable =\n",
              "            await google.colab.kernel.invokeFunction('convertToInteractive',\n",
              "                                                     [key], {});\n",
              "          if (!dataTable) return;\n",
              "\n",
              "          const docLinkHtml = 'Like what you see? Visit the ' +\n",
              "            '<a target=\"_blank\" href=https://colab.research.google.com/notebooks/data_table.ipynb>data table notebook</a>'\n",
              "            + ' to learn more about interactive tables.';\n",
              "          element.innerHTML = '';\n",
              "          dataTable['output_type'] = 'display_data';\n",
              "          await google.colab.output.renderOutput(dataTable, element);\n",
              "          const docLink = document.createElement('div');\n",
              "          docLink.innerHTML = docLinkHtml;\n",
              "          element.appendChild(docLink);\n",
              "        }\n",
              "      </script>\n",
              "    </div>\n",
              "  </div>\n",
              "  "
            ]
          },
          "metadata": {},
          "execution_count": 5
        }
      ]
    },
    {
      "cell_type": "markdown",
      "source": [
        "Scatter plot 1 - Menampilkan data kebutuhan tahunan dari  provinsi Sumatera Utara"
      ],
      "metadata": {
        "id": "8fc6z1nnOLi1"
      }
    },
    {
      "cell_type": "code",
      "source": [
        "df = pd.DataFrame(df_kbulanan)\n",
        "# Mengambil data hanya untuk provinsi tertentu (misalnya 'Jawa Barat')\n",
        "provinsi_tertentu = 'SUMATERA UTARA'\n",
        "df_provinsi_tertentu = df.loc[df['Propinsi'] == provinsi_tertentu]\n",
        "\n",
        "x = df_provinsi_tertentu['tahun']  # Data untuk sumbu x\n",
        "y = df_provinsi_tertentu['kebutuhan'] # Data untuk sumbu y\n",
        "\n",
        "plt.title(f'STATISTIK KEBUTUHAN {provinsi_tertentu}')\n",
        "plt.xlabel(\"Tahun\")\n",
        "plt.ylabel(\"Kebutuhan\")\n",
        "\n",
        "plt.scatter(x, y, color='#D04', marker='s')\n",
        "\n",
        "plt.xlim(min(x), max(x))\n",
        "# Menampilkan data provinsi tertentu\n",
        "\n",
        "plt.show()"
      ],
      "metadata": {
        "colab": {
          "base_uri": "https://localhost:8080/",
          "height": 472
        },
        "id": "EmB5JNOXKGNy",
        "outputId": "7725fe9c-1fba-4e48-8920-83021a570a01"
      },
      "execution_count": null,
      "outputs": [
        {
          "output_type": "display_data",
          "data": {
            "text/plain": [
              "<Figure size 640x480 with 1 Axes>"
            ],
            "image/png": "[encoded data removed]"
          },
          "metadata": {}
        }
      ]
    },
    {
      "cell_type": "markdown",
      "source": [
        "Scatter plot 2 - Menampilkan data kebutuhan 5 provinsi tertinggi di tahun 2014"
      ],
      "metadata": {
        "id": "X7joGCv_Rxc5"
      }
    },
    {
      "cell_type": "code",
      "source": [
        "df = pd.DataFrame(df_kbulanan)\n",
        "# Mengambil data hanya untuk provinsi tertentu (misalnya 'Jawa Barat')\n",
        "tahun = 2014\n",
        "df_provinsi_tertentu = df_sorted.loc[df['tahun'] == tahun]\n",
        "df_sorted = df_provinsi_tertentu.sort_values(by='kebutuhan', ascending=False)\n",
        "df_data = df_sorted.head(5)\n",
        "\n",
        "x = df_data['Propinsi']  # Data untuk sumbu x\n",
        "y = df_data['kebutuhan'] # Data untuk sumbu y\n",
        "\n",
        "df_provinsi_tertentu\n",
        "# plt.title(f'STATISTIK KEBUTUHAN {provinsi_tertentu}')\n",
        "# plt.xlabel(\"Propinsi\")\n",
        "# plt.ylabel(\"Kebutuhan\")\n",
        "plt.scatter(x, y, color='#D04', marker='s')\n",
        "\n",
        "# plt.xlim(min(x), max(x))\n",
        "# # Menampilkan data provinsi tertentu\n",
        "\n",
        "# plt.show()"
      ],
      "metadata": {
        "id": "D0eivHpzP5kS",
        "outputId": "0535172d-eed8-4dd0-a196-4bfe0b4d8928",
        "colab": {
          "base_uri": "https://localhost:8080/",
          "height": 448
        }
      },
      "execution_count": null,
      "outputs": [
        {
          "output_type": "execute_result",
          "data": {
            "text/plain": [
              "<matplotlib.collections.PathCollection at 0x7f0142c201f0>"
            ]
          },
          "metadata": {},
          "execution_count": 72
        },
        {
          "output_type": "display_data",
          "data": {
            "text/plain": [
              "<Figure size 640x480 with 1 Axes>"
            ],
            "image/png": "[encoded data removed]"
          },
          "metadata": {}
        }
      ]
    }
  ]
}